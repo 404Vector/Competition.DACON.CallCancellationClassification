{
 "cells": [
  {
   "cell_type": "markdown",
   "id": "00412633-fc34-490a-a518-22d6827883ee",
   "metadata": {},
   "source": [
    "# 라이브러리 호출"
   ]
  },
  {
   "cell_type": "code",
   "execution_count": 26,
   "id": "415461f1-9f49-4cca-9d49-19653a9376da",
   "metadata": {},
   "outputs": [],
   "source": [
    "import pandas as pd\n",
    "import random\n",
    "import os\n",
    "import numpy as np\n",
    "import sklearn as sk\n",
    "import sklearn.ensemble as sken\n",
    "from sklearn.model_selection import StratifiedKFold"
   ]
  },
  {
   "cell_type": "code",
   "execution_count": 27,
   "id": "6326af99",
   "metadata": {},
   "outputs": [],
   "source": [
    "CONFIG = {\n",
    "    'seed' :21,\n",
    "    'n_splits' : 5, \n",
    "    'sample_submission' : './data/sample_submission.csv',\n",
    "    'submission' : './data/submission.csv',\n",
    "    'train' : './data/train.csv',\n",
    "    'test' : './data/test.csv',\n",
    "}"
   ]
  },
  {
   "cell_type": "code",
   "execution_count": 28,
   "id": "59c77161-bf67-4ae3-b7a3-7968e7014a5c",
   "metadata": {},
   "outputs": [],
   "source": [
    "def seed_everything(seed):\n",
    "    random.seed(seed)\n",
    "    os.environ['PYTHONHASHSEED'] = str(seed)\n",
    "    np.random.seed(seed)\n",
    "\n",
    "seed_everything(21) # Seed 고정"
   ]
  },
  {
   "cell_type": "code",
   "execution_count": 29,
   "id": "3fabcc13-7f5b-44f8-a77e-4b869951d2c8",
   "metadata": {},
   "outputs": [],
   "source": [
    "train = pd.read_csv(CONFIG['train'])\n",
    "test = pd.read_csv(CONFIG['test'])"
   ]
  },
  {
   "cell_type": "code",
   "execution_count": 30,
   "id": "ae2a7cc8",
   "metadata": {},
   "outputs": [],
   "source": [
    "feature = ['가입일', '음성사서함이용', '주간통화시간', '주간통화횟수', '주간통화요금', '저녁통화시간',\n",
    "       '저녁통화횟수', '저녁통화요금', '밤통화시간', '밤통화횟수', '밤통화요금', '상담전화건수']"
   ]
  },
  {
   "cell_type": "code",
   "execution_count": 31,
   "id": "9425a5f1-0a89-460d-a76d-8ef0044c4d68",
   "metadata": {},
   "outputs": [],
   "source": [
    "x_train = train[feature].values\n",
    "y_train = train['전화해지여부'].values\n",
    "test = test.drop('ID', axis = 1).values"
   ]
  },
  {
   "cell_type": "code",
   "execution_count": 32,
   "id": "4a7471d3-0f63-41dc-b12e-22bcefe3a69f",
   "metadata": {},
   "outputs": [
    {
     "name": "stdout",
     "output_type": "stream",
     "text": [
      "Fited..\n",
      "Fited..\n",
      "Fited..\n",
      "Fited..\n",
      "Fited..\n"
     ]
    }
   ],
   "source": [
    "kf = StratifiedKFold(n_splits = CONFIG['n_splits'], shuffle = True, random_state = CONFIG['seed'])\n",
    "models = []\n",
    "for train_index, valid_index in kf.split(x_train, y_train):\n",
    "    X_train, X_test = x_train[train_index], x_train[valid_index]\n",
    "    Y_train, Y_test = y_train[train_index], y_train[valid_index]\n",
    "    model = sken.RandomForestClassifier(random_state=CONFIG['seed'])\n",
    "    model.fit(x_train, y_train)\n",
    "    models.append(model)\n",
    "    print('Fited..')\n",
    "preds = [model.predict(test).tolist() for model in models]"
   ]
  },
  {
   "cell_type": "code",
   "execution_count": 36,
   "id": "04a8145d",
   "metadata": {},
   "outputs": [],
   "source": [
    "pred_vec = np.array((preds))\n",
    "ensemble = []\n",
    "for i in range(pred_vec.shape[1]):\n",
    "    x = [pred_vec[:,i].tolist().count(0), pred_vec[:,i].tolist().count(1)]\n",
    "    ensemble.append(x.index(max(x)))"
   ]
  },
  {
   "cell_type": "code",
   "execution_count": 37,
   "id": "e9d1eb92-e79c-48dc-a437-985d7e7e046c",
   "metadata": {},
   "outputs": [],
   "source": [
    "submit = pd.read_csv(CONFIG['sample_submission'])\n",
    "submit['전화해지여부'] = ensemble\n",
    "submit.head()\n",
    "submit.to_csv('./data/submission.csv', index = False)"
   ]
  }
 ],
 "metadata": {
  "kernelspec": {
   "display_name": "Python 3.9.2 ('Competition.DACON.CallCancellationClassifi-86ruo-Tg': venv)",
   "language": "python",
   "name": "python3"
  },
  "language_info": {
   "codemirror_mode": {
    "name": "ipython",
    "version": 3
   },
   "file_extension": ".py",
   "mimetype": "text/x-python",
   "name": "python",
   "nbconvert_exporter": "python",
   "pygments_lexer": "ipython3",
   "version": "3.9.2"
  },
  "vscode": {
   "interpreter": {
    "hash": "d73dee769a7b5403b615522a4b71cf6b4cf55e1b0013d1be15edd1091fb39c72"
   }
  }
 },
 "nbformat": 4,
 "nbformat_minor": 5
}
